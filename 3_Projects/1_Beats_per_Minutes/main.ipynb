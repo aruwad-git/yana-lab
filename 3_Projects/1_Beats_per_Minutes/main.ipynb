{
 "cells": [
  {
   "cell_type": "markdown",
   "id": "644c1422",
   "metadata": {},
   "source": [
    "# 0. Setup."
   ]
  },
  {
   "cell_type": "code",
   "execution_count": 1,
   "id": "e1549daa",
   "metadata": {},
   "outputs": [
    {
     "name": "stdout",
     "output_type": "stream",
     "text": [
      "Requirement already satisfied: numpy in c:\\users\\yana\\anaconda3\\envs\\ai_prac_basic\\lib\\site-packages (from -r ../../requirements_ai-prac.txt (line 2)) (2.2.6)\n",
      "Requirement already satisfied: pandas in c:\\users\\yana\\anaconda3\\envs\\ai_prac_basic\\lib\\site-packages (from -r ../../requirements_ai-prac.txt (line 3)) (2.3.2)\n",
      "Requirement already satisfied: matplotlib in c:\\users\\yana\\anaconda3\\envs\\ai_prac_basic\\lib\\site-packages (from -r ../../requirements_ai-prac.txt (line 4)) (3.10.6)\n",
      "Requirement already satisfied: scikit-learn in c:\\users\\yana\\anaconda3\\envs\\ai_prac_basic\\lib\\site-packages (from -r ../../requirements_ai-prac.txt (line 5)) (1.7.1)\n",
      "Requirement already satisfied: python-dateutil>=2.8.2 in c:\\users\\yana\\anaconda3\\envs\\ai_prac_basic\\lib\\site-packages (from pandas->-r ../../requirements_ai-prac.txt (line 3)) (2.9.0.post0)\n",
      "Requirement already satisfied: pytz>=2020.1 in c:\\users\\yana\\anaconda3\\envs\\ai_prac_basic\\lib\\site-packages (from pandas->-r ../../requirements_ai-prac.txt (line 3)) (2025.2)\n",
      "Requirement already satisfied: tzdata>=2022.7 in c:\\users\\yana\\anaconda3\\envs\\ai_prac_basic\\lib\\site-packages (from pandas->-r ../../requirements_ai-prac.txt (line 3)) (2025.2)\n",
      "Requirement already satisfied: contourpy>=1.0.1 in c:\\users\\yana\\anaconda3\\envs\\ai_prac_basic\\lib\\site-packages (from matplotlib->-r ../../requirements_ai-prac.txt (line 4)) (1.3.2)\n",
      "Requirement already satisfied: cycler>=0.10 in c:\\users\\yana\\anaconda3\\envs\\ai_prac_basic\\lib\\site-packages (from matplotlib->-r ../../requirements_ai-prac.txt (line 4)) (0.12.1)\n",
      "Requirement already satisfied: fonttools>=4.22.0 in c:\\users\\yana\\anaconda3\\envs\\ai_prac_basic\\lib\\site-packages (from matplotlib->-r ../../requirements_ai-prac.txt (line 4)) (4.59.2)\n",
      "Requirement already satisfied: kiwisolver>=1.3.1 in c:\\users\\yana\\anaconda3\\envs\\ai_prac_basic\\lib\\site-packages (from matplotlib->-r ../../requirements_ai-prac.txt (line 4)) (1.4.9)\n",
      "Requirement already satisfied: packaging>=20.0 in c:\\users\\yana\\anaconda3\\envs\\ai_prac_basic\\lib\\site-packages (from matplotlib->-r ../../requirements_ai-prac.txt (line 4)) (25.0)\n",
      "Requirement already satisfied: pillow>=8 in c:\\users\\yana\\anaconda3\\envs\\ai_prac_basic\\lib\\site-packages (from matplotlib->-r ../../requirements_ai-prac.txt (line 4)) (11.3.0)\n",
      "Requirement already satisfied: pyparsing>=2.3.1 in c:\\users\\yana\\anaconda3\\envs\\ai_prac_basic\\lib\\site-packages (from matplotlib->-r ../../requirements_ai-prac.txt (line 4)) (3.2.3)\n",
      "Requirement already satisfied: scipy>=1.8.0 in c:\\users\\yana\\anaconda3\\envs\\ai_prac_basic\\lib\\site-packages (from scikit-learn->-r ../../requirements_ai-prac.txt (line 5)) (1.15.3)\n",
      "Requirement already satisfied: joblib>=1.2.0 in c:\\users\\yana\\anaconda3\\envs\\ai_prac_basic\\lib\\site-packages (from scikit-learn->-r ../../requirements_ai-prac.txt (line 5)) (1.5.2)\n",
      "Requirement already satisfied: threadpoolctl>=3.1.0 in c:\\users\\yana\\anaconda3\\envs\\ai_prac_basic\\lib\\site-packages (from scikit-learn->-r ../../requirements_ai-prac.txt (line 5)) (3.6.0)\n",
      "Requirement already satisfied: six>=1.5 in c:\\users\\yana\\anaconda3\\envs\\ai_prac_basic\\lib\\site-packages (from python-dateutil>=2.8.2->pandas->-r ../../requirements_ai-prac.txt (line 3)) (1.17.0)\n",
      "Note: you may need to restart the kernel to use updated packages.\n"
     ]
    }
   ],
   "source": [
    "%pip install -r ../../requirements_ai-prac.txt"
   ]
  },
  {
   "cell_type": "code",
   "execution_count": 62,
   "id": "bfd93549",
   "metadata": {},
   "outputs": [],
   "source": [
    "import pandas as pd\n",
    "import numpy as np\n",
    "import matplotlib.pyplot as plt\n",
    "\n",
    "SEED = 42"
   ]
  },
  {
   "cell_type": "markdown",
   "id": "695c6a56",
   "metadata": {},
   "source": [
    "# 1. Data."
   ]
  },
  {
   "cell_type": "code",
   "execution_count": 46,
   "id": "4aff8666",
   "metadata": {},
   "outputs": [
    {
     "data": {
      "text/html": [
       "<div>\n",
       "<style scoped>\n",
       "    .dataframe tbody tr th:only-of-type {\n",
       "        vertical-align: middle;\n",
       "    }\n",
       "\n",
       "    .dataframe tbody tr th {\n",
       "        vertical-align: top;\n",
       "    }\n",
       "\n",
       "    .dataframe thead th {\n",
       "        text-align: right;\n",
       "    }\n",
       "</style>\n",
       "<table border=\"1\" class=\"dataframe\">\n",
       "  <thead>\n",
       "    <tr style=\"text-align: right;\">\n",
       "      <th></th>\n",
       "      <th>RhythmScore</th>\n",
       "      <th>AudioLoudness</th>\n",
       "      <th>VocalContent</th>\n",
       "      <th>AcousticQuality</th>\n",
       "      <th>InstrumentalScore</th>\n",
       "      <th>LivePerformanceLikelihood</th>\n",
       "      <th>MoodScore</th>\n",
       "      <th>TrackDurationMs</th>\n",
       "      <th>Energy</th>\n",
       "      <th>BeatsPerMinute</th>\n",
       "    </tr>\n",
       "  </thead>\n",
       "  <tbody>\n",
       "    <tr>\n",
       "      <th>0</th>\n",
       "      <td>0.603610</td>\n",
       "      <td>-7.636942</td>\n",
       "      <td>0.023500</td>\n",
       "      <td>0.000005</td>\n",
       "      <td>0.000001</td>\n",
       "      <td>0.051385</td>\n",
       "      <td>0.409866</td>\n",
       "      <td>290715.6450</td>\n",
       "      <td>0.826267</td>\n",
       "      <td>147.53020</td>\n",
       "    </tr>\n",
       "    <tr>\n",
       "      <th>1</th>\n",
       "      <td>0.639451</td>\n",
       "      <td>-16.267598</td>\n",
       "      <td>0.071520</td>\n",
       "      <td>0.444929</td>\n",
       "      <td>0.349414</td>\n",
       "      <td>0.170522</td>\n",
       "      <td>0.651010</td>\n",
       "      <td>164519.5174</td>\n",
       "      <td>0.145400</td>\n",
       "      <td>136.15963</td>\n",
       "    </tr>\n",
       "    <tr>\n",
       "      <th>2</th>\n",
       "      <td>0.514538</td>\n",
       "      <td>-15.953575</td>\n",
       "      <td>0.110715</td>\n",
       "      <td>0.173699</td>\n",
       "      <td>0.453814</td>\n",
       "      <td>0.029576</td>\n",
       "      <td>0.423865</td>\n",
       "      <td>174495.5667</td>\n",
       "      <td>0.624667</td>\n",
       "      <td>55.31989</td>\n",
       "    </tr>\n",
       "    <tr>\n",
       "      <th>3</th>\n",
       "      <td>0.734463</td>\n",
       "      <td>-1.357000</td>\n",
       "      <td>0.052965</td>\n",
       "      <td>0.001651</td>\n",
       "      <td>0.159717</td>\n",
       "      <td>0.086366</td>\n",
       "      <td>0.278745</td>\n",
       "      <td>225567.4651</td>\n",
       "      <td>0.487467</td>\n",
       "      <td>147.91212</td>\n",
       "    </tr>\n",
       "    <tr>\n",
       "      <th>4</th>\n",
       "      <td>0.532968</td>\n",
       "      <td>-13.056437</td>\n",
       "      <td>0.023500</td>\n",
       "      <td>0.068687</td>\n",
       "      <td>0.000001</td>\n",
       "      <td>0.331345</td>\n",
       "      <td>0.477769</td>\n",
       "      <td>213960.6789</td>\n",
       "      <td>0.947333</td>\n",
       "      <td>89.58511</td>\n",
       "    </tr>\n",
       "  </tbody>\n",
       "</table>\n",
       "</div>"
      ],
      "text/plain": [
       "   RhythmScore  AudioLoudness  VocalContent  AcousticQuality  \\\n",
       "0     0.603610      -7.636942      0.023500         0.000005   \n",
       "1     0.639451     -16.267598      0.071520         0.444929   \n",
       "2     0.514538     -15.953575      0.110715         0.173699   \n",
       "3     0.734463      -1.357000      0.052965         0.001651   \n",
       "4     0.532968     -13.056437      0.023500         0.068687   \n",
       "\n",
       "   InstrumentalScore  LivePerformanceLikelihood  MoodScore  TrackDurationMs  \\\n",
       "0           0.000001                   0.051385   0.409866      290715.6450   \n",
       "1           0.349414                   0.170522   0.651010      164519.5174   \n",
       "2           0.453814                   0.029576   0.423865      174495.5667   \n",
       "3           0.159717                   0.086366   0.278745      225567.4651   \n",
       "4           0.000001                   0.331345   0.477769      213960.6789   \n",
       "\n",
       "     Energy  BeatsPerMinute  \n",
       "0  0.826267       147.53020  \n",
       "1  0.145400       136.15963  \n",
       "2  0.624667        55.31989  \n",
       "3  0.487467       147.91212  \n",
       "4  0.947333        89.58511  "
      ]
     },
     "metadata": {},
     "output_type": "display_data"
    }
   ],
   "source": [
    "# Load.\n",
    "df = pd.read_csv('data/train.csv')\n",
    "\n",
    "# Drop `id` column.\n",
    "df = df.drop(columns=['id'])\n",
    "\n",
    "# Split into X and y.\n",
    "X  = df.drop(columns=['BeatsPerMinute'])\n",
    "y  = df['BeatsPerMinute']\n",
    "\n",
    "# Display.\n",
    "display(df.head())"
   ]
  },
  {
   "cell_type": "markdown",
   "id": "ce8306d0",
   "metadata": {},
   "source": [
    "# 2. EDA."
   ]
  },
  {
   "cell_type": "markdown",
   "id": "d13655e9",
   "metadata": {},
   "source": [
    "- Observations.\n",
    "  - Most features are in ***near-normal*** distribution.\n",
    "  - Some features show right skewed a bit, consider transform.\n",
    "    - `InstrumentalScore`\n",
    "    - `VocalContent`\n",
    "    - `AcousticQuality`\n",
    "  - No feature shows heavy-tailed distribution.\n",
    "  - Label `BeatsPerMinute` shows textbook distribution.\n",
    "\n",
    "- Conclusions.\n",
    "  - Apply `log1p` on 3 skewed features.\n",
    "    - `InstrumentalScore`\n",
    "    - `VocalContent`\n",
    "    - `AcousticQuality`\n",
    "  - Just apply `StandardScaler` for all features.\n",
    "  - Need to model `polynomial` relationships, not linear."
   ]
  },
  {
   "cell_type": "markdown",
   "id": "32fb6ab3",
   "metadata": {},
   "source": [
    "## 2.1. Null Handling."
   ]
  },
  {
   "cell_type": "markdown",
   "id": "0a326cf8",
   "metadata": {},
   "source": [
    "- No single null value in any column.\n",
    "- Seems like it is well-structured tabular dataset for practice.\n",
    "- Let's suppose there is no noise for now."
   ]
  },
  {
   "cell_type": "code",
   "execution_count": null,
   "id": "f848d739",
   "metadata": {},
   "outputs": [
    {
     "data": {
      "text/html": [
       "<div>\n",
       "<style scoped>\n",
       "    .dataframe tbody tr th:only-of-type {\n",
       "        vertical-align: middle;\n",
       "    }\n",
       "\n",
       "    .dataframe tbody tr th {\n",
       "        vertical-align: top;\n",
       "    }\n",
       "\n",
       "    .dataframe thead th {\n",
       "        text-align: right;\n",
       "    }\n",
       "</style>\n",
       "<table border=\"1\" class=\"dataframe\">\n",
       "  <thead>\n",
       "    <tr style=\"text-align: right;\">\n",
       "      <th></th>\n",
       "      <th>RhythmScore</th>\n",
       "      <th>AudioLoudness</th>\n",
       "      <th>VocalContent</th>\n",
       "      <th>AcousticQuality</th>\n",
       "      <th>InstrumentalScore</th>\n",
       "      <th>LivePerformanceLikelihood</th>\n",
       "      <th>MoodScore</th>\n",
       "      <th>TrackDurationMs</th>\n",
       "      <th>Energy</th>\n",
       "      <th>BeatsPerMinute</th>\n",
       "    </tr>\n",
       "  </thead>\n",
       "  <tbody>\n",
       "    <tr>\n",
       "      <th>0</th>\n",
       "      <td>0.603610</td>\n",
       "      <td>-7.636942</td>\n",
       "      <td>0.023500</td>\n",
       "      <td>0.000005</td>\n",
       "      <td>0.000001</td>\n",
       "      <td>0.051385</td>\n",
       "      <td>0.409866</td>\n",
       "      <td>290715.6450</td>\n",
       "      <td>0.826267</td>\n",
       "      <td>147.53020</td>\n",
       "    </tr>\n",
       "    <tr>\n",
       "      <th>1</th>\n",
       "      <td>0.639451</td>\n",
       "      <td>-16.267598</td>\n",
       "      <td>0.071520</td>\n",
       "      <td>0.444929</td>\n",
       "      <td>0.349414</td>\n",
       "      <td>0.170522</td>\n",
       "      <td>0.651010</td>\n",
       "      <td>164519.5174</td>\n",
       "      <td>0.145400</td>\n",
       "      <td>136.15963</td>\n",
       "    </tr>\n",
       "    <tr>\n",
       "      <th>2</th>\n",
       "      <td>0.514538</td>\n",
       "      <td>-15.953575</td>\n",
       "      <td>0.110715</td>\n",
       "      <td>0.173699</td>\n",
       "      <td>0.453814</td>\n",
       "      <td>0.029576</td>\n",
       "      <td>0.423865</td>\n",
       "      <td>174495.5667</td>\n",
       "      <td>0.624667</td>\n",
       "      <td>55.31989</td>\n",
       "    </tr>\n",
       "    <tr>\n",
       "      <th>3</th>\n",
       "      <td>0.734463</td>\n",
       "      <td>-1.357000</td>\n",
       "      <td>0.052965</td>\n",
       "      <td>0.001651</td>\n",
       "      <td>0.159717</td>\n",
       "      <td>0.086366</td>\n",
       "      <td>0.278745</td>\n",
       "      <td>225567.4651</td>\n",
       "      <td>0.487467</td>\n",
       "      <td>147.91212</td>\n",
       "    </tr>\n",
       "    <tr>\n",
       "      <th>4</th>\n",
       "      <td>0.532968</td>\n",
       "      <td>-13.056437</td>\n",
       "      <td>0.023500</td>\n",
       "      <td>0.068687</td>\n",
       "      <td>0.000001</td>\n",
       "      <td>0.331345</td>\n",
       "      <td>0.477769</td>\n",
       "      <td>213960.6789</td>\n",
       "      <td>0.947333</td>\n",
       "      <td>89.58511</td>\n",
       "    </tr>\n",
       "    <tr>\n",
       "      <th>5</th>\n",
       "      <td>0.594579</td>\n",
       "      <td>-11.715431</td>\n",
       "      <td>0.101701</td>\n",
       "      <td>0.000005</td>\n",
       "      <td>0.259634</td>\n",
       "      <td>0.024300</td>\n",
       "      <td>0.639254</td>\n",
       "      <td>161012.2221</td>\n",
       "      <td>0.938333</td>\n",
       "      <td>151.43602</td>\n",
       "    </tr>\n",
       "    <tr>\n",
       "      <th>6</th>\n",
       "      <td>0.714958</td>\n",
       "      <td>-8.809725</td>\n",
       "      <td>0.023500</td>\n",
       "      <td>0.471139</td>\n",
       "      <td>0.000001</td>\n",
       "      <td>0.356775</td>\n",
       "      <td>0.724783</td>\n",
       "      <td>243432.5794</td>\n",
       "      <td>0.336800</td>\n",
       "      <td>151.63439</td>\n",
       "    </tr>\n",
       "    <tr>\n",
       "      <th>7</th>\n",
       "      <td>0.703726</td>\n",
       "      <td>-10.482610</td>\n",
       "      <td>0.037751</td>\n",
       "      <td>0.115727</td>\n",
       "      <td>0.000001</td>\n",
       "      <td>0.024300</td>\n",
       "      <td>0.773899</td>\n",
       "      <td>293848.8919</td>\n",
       "      <td>0.722000</td>\n",
       "      <td>123.31545</td>\n",
       "    </tr>\n",
       "    <tr>\n",
       "      <th>8</th>\n",
       "      <td>0.455598</td>\n",
       "      <td>-1.357000</td>\n",
       "      <td>0.162537</td>\n",
       "      <td>0.173626</td>\n",
       "      <td>0.000001</td>\n",
       "      <td>0.288465</td>\n",
       "      <td>0.651137</td>\n",
       "      <td>271215.8237</td>\n",
       "      <td>0.947267</td>\n",
       "      <td>133.59806</td>\n",
       "    </tr>\n",
       "    <tr>\n",
       "      <th>9</th>\n",
       "      <td>0.431498</td>\n",
       "      <td>-5.935425</td>\n",
       "      <td>0.023500</td>\n",
       "      <td>0.439565</td>\n",
       "      <td>0.184462</td>\n",
       "      <td>0.114921</td>\n",
       "      <td>0.025600</td>\n",
       "      <td>222030.4794</td>\n",
       "      <td>0.950867</td>\n",
       "      <td>117.39790</td>\n",
       "    </tr>\n",
       "  </tbody>\n",
       "</table>\n",
       "</div>"
      ],
      "text/plain": [
       "   RhythmScore  AudioLoudness  VocalContent  AcousticQuality  \\\n",
       "0     0.603610      -7.636942      0.023500         0.000005   \n",
       "1     0.639451     -16.267598      0.071520         0.444929   \n",
       "2     0.514538     -15.953575      0.110715         0.173699   \n",
       "3     0.734463      -1.357000      0.052965         0.001651   \n",
       "4     0.532968     -13.056437      0.023500         0.068687   \n",
       "5     0.594579     -11.715431      0.101701         0.000005   \n",
       "6     0.714958      -8.809725      0.023500         0.471139   \n",
       "7     0.703726     -10.482610      0.037751         0.115727   \n",
       "8     0.455598      -1.357000      0.162537         0.173626   \n",
       "9     0.431498      -5.935425      0.023500         0.439565   \n",
       "\n",
       "   InstrumentalScore  LivePerformanceLikelihood  MoodScore  TrackDurationMs  \\\n",
       "0           0.000001                   0.051385   0.409866      290715.6450   \n",
       "1           0.349414                   0.170522   0.651010      164519.5174   \n",
       "2           0.453814                   0.029576   0.423865      174495.5667   \n",
       "3           0.159717                   0.086366   0.278745      225567.4651   \n",
       "4           0.000001                   0.331345   0.477769      213960.6789   \n",
       "5           0.259634                   0.024300   0.639254      161012.2221   \n",
       "6           0.000001                   0.356775   0.724783      243432.5794   \n",
       "7           0.000001                   0.024300   0.773899      293848.8919   \n",
       "8           0.000001                   0.288465   0.651137      271215.8237   \n",
       "9           0.184462                   0.114921   0.025600      222030.4794   \n",
       "\n",
       "     Energy  BeatsPerMinute  \n",
       "0  0.826267       147.53020  \n",
       "1  0.145400       136.15963  \n",
       "2  0.624667        55.31989  \n",
       "3  0.487467       147.91212  \n",
       "4  0.947333        89.58511  \n",
       "5  0.938333       151.43602  \n",
       "6  0.336800       151.63439  \n",
       "7  0.722000       123.31545  \n",
       "8  0.947267       133.59806  \n",
       "9  0.950867       117.39790  "
      ]
     },
     "metadata": {},
     "output_type": "display_data"
    },
    {
     "name": "stdout",
     "output_type": "stream",
     "text": [
      "<class 'pandas.core.frame.DataFrame'>\n",
      "RangeIndex: 524164 entries, 0 to 524163\n",
      "Data columns (total 10 columns):\n",
      " #   Column                     Non-Null Count   Dtype  \n",
      "---  ------                     --------------   -----  \n",
      " 0   RhythmScore                524164 non-null  float64\n",
      " 1   AudioLoudness              524164 non-null  float64\n",
      " 2   VocalContent               524164 non-null  float64\n",
      " 3   AcousticQuality            524164 non-null  float64\n",
      " 4   InstrumentalScore          524164 non-null  float64\n",
      " 5   LivePerformanceLikelihood  524164 non-null  float64\n",
      " 6   MoodScore                  524164 non-null  float64\n",
      " 7   TrackDurationMs            524164 non-null  float64\n",
      " 8   Energy                     524164 non-null  float64\n",
      " 9   BeatsPerMinute             524164 non-null  float64\n",
      "dtypes: float64(10)\n",
      "memory usage: 40.0 MB\n"
     ]
    },
    {
     "data": {
      "text/plain": [
       "None"
      ]
     },
     "metadata": {},
     "output_type": "display_data"
    }
   ],
   "source": [
    "display(df.head(10))\n",
    "display(df.info())"
   ]
  },
  {
   "cell_type": "markdown",
   "id": "8d1a3326",
   "metadata": {},
   "source": [
    "## 2.2. Feature Distributions."
   ]
  },
  {
   "cell_type": "code",
   "execution_count": 32,
   "id": "816f5dbc",
   "metadata": {},
   "outputs": [
    {
     "name": "stdout",
     "output_type": "stream",
     "text": [
      "se(skew) = 0.0034, se(kurt) = 0.0068\n",
      "Not very useful for n = 524,164 though.\n"
     ]
    },
    {
     "data": {
      "text/html": [
       "<div>\n",
       "<style scoped>\n",
       "    .dataframe tbody tr th:only-of-type {\n",
       "        vertical-align: middle;\n",
       "    }\n",
       "\n",
       "    .dataframe tbody tr th {\n",
       "        vertical-align: top;\n",
       "    }\n",
       "\n",
       "    .dataframe thead th {\n",
       "        text-align: right;\n",
       "    }\n",
       "</style>\n",
       "<table border=\"1\" class=\"dataframe\">\n",
       "  <thead>\n",
       "    <tr style=\"text-align: right;\">\n",
       "      <th></th>\n",
       "      <th>Skewness</th>\n",
       "      <th>Kurtosis</th>\n",
       "    </tr>\n",
       "  </thead>\n",
       "  <tbody>\n",
       "    <tr>\n",
       "      <th>InstrumentalScore</th>\n",
       "      <td>1.036285</td>\n",
       "      <td>0.156410</td>\n",
       "    </tr>\n",
       "    <tr>\n",
       "      <th>VocalContent</th>\n",
       "      <td>0.789112</td>\n",
       "      <td>-0.147707</td>\n",
       "    </tr>\n",
       "    <tr>\n",
       "      <th>AcousticQuality</th>\n",
       "      <td>0.785966</td>\n",
       "      <td>0.267141</td>\n",
       "    </tr>\n",
       "    <tr>\n",
       "      <th>LivePerformanceLikelihood</th>\n",
       "      <td>0.393322</td>\n",
       "      <td>-0.754137</td>\n",
       "    </tr>\n",
       "    <tr>\n",
       "      <th>RhythmScore</th>\n",
       "      <td>0.168155</td>\n",
       "      <td>-0.526732</td>\n",
       "    </tr>\n",
       "    <tr>\n",
       "      <th>BeatsPerMinute</th>\n",
       "      <td>0.071550</td>\n",
       "      <td>-0.154465</td>\n",
       "    </tr>\n",
       "    <tr>\n",
       "      <th>Energy</th>\n",
       "      <td>-0.030344</td>\n",
       "      <td>-1.209077</td>\n",
       "    </tr>\n",
       "    <tr>\n",
       "      <th>TrackDurationMs</th>\n",
       "      <td>-0.190483</td>\n",
       "      <td>-0.129154</td>\n",
       "    </tr>\n",
       "    <tr>\n",
       "      <th>MoodScore</th>\n",
       "      <td>-0.268820</td>\n",
       "      <td>-0.142274</td>\n",
       "    </tr>\n",
       "    <tr>\n",
       "      <th>AudioLoudness</th>\n",
       "      <td>-0.308514</td>\n",
       "      <td>-0.388404</td>\n",
       "    </tr>\n",
       "  </tbody>\n",
       "</table>\n",
       "</div>"
      ],
      "text/plain": [
       "                           Skewness  Kurtosis\n",
       "InstrumentalScore          1.036285  0.156410\n",
       "VocalContent               0.789112 -0.147707\n",
       "AcousticQuality            0.785966  0.267141\n",
       "LivePerformanceLikelihood  0.393322 -0.754137\n",
       "RhythmScore                0.168155 -0.526732\n",
       "BeatsPerMinute             0.071550 -0.154465\n",
       "Energy                    -0.030344 -1.209077\n",
       "TrackDurationMs           -0.190483 -0.129154\n",
       "MoodScore                 -0.268820 -0.142274\n",
       "AudioLoudness             -0.308514 -0.388404"
      ]
     },
     "metadata": {},
     "output_type": "display_data"
    },
    {
     "data": {
      "image/png": "[encoded data removed]",
      "text/plain": [
       "<Figure size 1200x1000 with 12 Axes>"
      ]
     },
     "metadata": {},
     "output_type": "display_data"
    }
   ],
   "source": [
    "# Calculate.\n",
    "kurt = df.kurtosis()\n",
    "skew = df.skew()\n",
    "\n",
    "# Combine.\n",
    "summary = pd.concat([skew, kurt], axis=1)\n",
    "summary.columns = ['Skewness', 'Kurtosis']\n",
    "\n",
    "# Sort by skew.\n",
    "summary = summary.sort_values('Skewness', ascending=False)\n",
    "\n",
    "# Display.\n",
    "print(f\"se(skew) = {np.sqrt(6/len(df)):.4f}, se(kurt) = {np.sqrt(24/len(df)):.4f}\")\n",
    "print(f\"Not very useful for n = {len(df):,} though.\")\n",
    "display(summary)\n",
    "\n",
    "# Plot histograms.\n",
    "hist = df.hist(figsize=(12, 10))\n",
    "plt.show()"
   ]
  },
  {
   "cell_type": "markdown",
   "id": "f44d70d4",
   "metadata": {},
   "source": [
    "## 2.3. Correlation."
   ]
  },
  {
   "cell_type": "code",
   "execution_count": 72,
   "id": "ad1c0467",
   "metadata": {},
   "outputs": [
    {
     "data": {
      "text/plain": [
       "VocalContent                 0.003147\n",
       "AcousticQuality              0.001283\n",
       "Energy                       0.001202\n",
       "LivePerformanceLikelihood    0.000646\n",
       "RhythmScore                  0.000543\n",
       "MoodScore                    0.000411\n",
       "TrackDurationMs              0.000369\n",
       "AudioLoudness                0.000035\n",
       "InstrumentalScore            0.000000\n",
       "Name: MutualInformation, dtype: float64"
      ]
     },
     "metadata": {},
     "output_type": "display_data"
    },
    {
     "data": {
      "image/png": "[encoded data removed]",
      "text/plain": [
       "<Figure size 480x480 with 1 Axes>"
      ]
     },
     "metadata": {},
     "output_type": "display_data"
    },
    {
     "data": {
      "image/png": "[encoded data removed]",
      "text/plain": [
       "<Figure size 480x480 with 1 Axes>"
      ]
     },
     "metadata": {},
     "output_type": "display_data"
    }
   ],
   "source": [
    "# Typical Pearson.\n",
    "pearson = df.corr(method='pearson')\n",
    "plt.matshow(pearson, cmap=\"gray_r\", vmin=-1, vmax=1)\n",
    "\n",
    "# Spearman.\n",
    "pearson = df.corr(method='spearman')\n",
    "plt.matshow(pearson, cmap=\"gray_r\", vmin=-1, vmax=1)\n",
    "\n",
    "# Mutual information.\n",
    "from sklearn.feature_selection import mutual_info_regression\n",
    "mi_vals = mutual_info_regression(X.values, np.asarray(y))\n",
    "mi_series = pd.Series(mi_vals, index=X.columns, name=\"MutualInformation\").sort_values(ascending=False)\n",
    "display(mi_series)"
   ]
  },
  {
   "cell_type": "markdown",
   "id": "d1f3e7ef",
   "metadata": {},
   "source": [
    "# 3. Preprocessing."
   ]
  },
  {
   "cell_type": "markdown",
   "id": "d8a6b02d",
   "metadata": {},
   "source": [
    "## 3.1. Transform."
   ]
  },
  {
   "cell_type": "code",
   "execution_count": null,
   "id": "60635f4a",
   "metadata": {},
   "outputs": [
    {
     "name": "stdout",
     "output_type": "stream",
     "text": [
      "Before:\n"
     ]
    },
    {
     "data": {
      "text/plain": [
       "InstrumentalScore    1.036285\n",
       "VocalContent         0.789112\n",
       "AcousticQuality      0.785966\n",
       "dtype: float64"
      ]
     },
     "metadata": {},
     "output_type": "display_data"
    },
    {
     "name": "stdout",
     "output_type": "stream",
     "text": [
      "After:\n"
     ]
    },
    {
     "data": {
      "text/plain": [
       "InstrumentalScore    0.869734\n",
       "VocalContent         0.708348\n",
       "AcousticQuality      0.430256\n",
       "dtype: float64"
      ]
     },
     "metadata": {},
     "output_type": "display_data"
    }
   ],
   "source": [
    "# Apply log1p to reduce skewness.\n",
    "cols_skewed      = [\"InstrumentalScore\", \"VocalContent\", \"AcousticQuality\"]\n",
    "\n",
    "print(\"Before:\")\n",
    "display(df[cols_skewed].skew())\n",
    "\n",
    "df_trans                = df.copy()\n",
    "df_trans[cols_skewed]   = np.log1p(df_trans[cols_skewed])\n",
    "X_trans                 = df_trans.drop(columns=['BeatsPerMinute'])\n",
    "\n",
    "print(\"After:\")\n",
    "display(df_trans[cols_skewed].skew())"
   ]
  },
  {
   "cell_type": "markdown",
   "id": "79f9f74f",
   "metadata": {},
   "source": [
    "## 3.2. Feature Scaling."
   ]
  },
  {
   "cell_type": "code",
   "execution_count": 42,
   "id": "f52bf308",
   "metadata": {},
   "outputs": [
    {
     "data": {
      "text/html": [
       "<div>\n",
       "<style scoped>\n",
       "    .dataframe tbody tr th:only-of-type {\n",
       "        vertical-align: middle;\n",
       "    }\n",
       "\n",
       "    .dataframe tbody tr th {\n",
       "        vertical-align: top;\n",
       "    }\n",
       "\n",
       "    .dataframe thead th {\n",
       "        text-align: right;\n",
       "    }\n",
       "</style>\n",
       "<table border=\"1\" class=\"dataframe\">\n",
       "  <thead>\n",
       "    <tr style=\"text-align: right;\">\n",
       "      <th></th>\n",
       "      <th>RhythmScore</th>\n",
       "      <th>AudioLoudness</th>\n",
       "      <th>VocalContent</th>\n",
       "      <th>AcousticQuality</th>\n",
       "      <th>InstrumentalScore</th>\n",
       "      <th>LivePerformanceLikelihood</th>\n",
       "      <th>MoodScore</th>\n",
       "      <th>TrackDurationMs</th>\n",
       "      <th>Energy</th>\n",
       "    </tr>\n",
       "  </thead>\n",
       "  <tbody>\n",
       "    <tr>\n",
       "      <th>0</th>\n",
       "      <td>-0.186320</td>\n",
       "      <td>0.160753</td>\n",
       "      <td>-1.039091</td>\n",
       "      <td>-1.285378</td>\n",
       "      <td>-0.931999</td>\n",
       "      <td>-1.074691</td>\n",
       "      <td>-0.647405</td>\n",
       "      <td>0.822767</td>\n",
       "      <td>1.122062</td>\n",
       "    </tr>\n",
       "    <tr>\n",
       "      <th>1</th>\n",
       "      <td>0.042116</td>\n",
       "      <td>-1.708885</td>\n",
       "      <td>-0.036470</td>\n",
       "      <td>0.878609</td>\n",
       "      <td>1.734406</td>\n",
       "      <td>-0.066641</td>\n",
       "      <td>0.422064</td>\n",
       "      <td>-1.304377</td>\n",
       "      <td>-1.226143</td>\n",
       "    </tr>\n",
       "    <tr>\n",
       "      <th>2</th>\n",
       "      <td>-0.754022</td>\n",
       "      <td>-1.640859</td>\n",
       "      <td>0.749140</td>\n",
       "      <td>-0.343745</td>\n",
       "      <td>2.397472</td>\n",
       "      <td>-1.259230</td>\n",
       "      <td>-0.585321</td>\n",
       "      <td>-1.136222</td>\n",
       "      <td>0.426774</td>\n",
       "    </tr>\n",
       "    <tr>\n",
       "      <th>3</th>\n",
       "      <td>0.647674</td>\n",
       "      <td>1.521162</td>\n",
       "      <td>-0.418456</td>\n",
       "      <td>-1.275711</td>\n",
       "      <td>0.386437</td>\n",
       "      <td>-0.778712</td>\n",
       "      <td>-1.228925</td>\n",
       "      <td>-0.275361</td>\n",
       "      <td>-0.046407</td>\n",
       "    </tr>\n",
       "    <tr>\n",
       "      <th>4</th>\n",
       "      <td>-0.636554</td>\n",
       "      <td>-1.013259</td>\n",
       "      <td>-1.039091</td>\n",
       "      <td>-0.894828</td>\n",
       "      <td>-0.931999</td>\n",
       "      <td>1.294126</td>\n",
       "      <td>-0.346257</td>\n",
       "      <td>-0.471004</td>\n",
       "      <td>1.539602</td>\n",
       "    </tr>\n",
       "  </tbody>\n",
       "</table>\n",
       "</div>"
      ],
      "text/plain": [
       "   RhythmScore  AudioLoudness  VocalContent  AcousticQuality  \\\n",
       "0    -0.186320       0.160753     -1.039091        -1.285378   \n",
       "1     0.042116      -1.708885     -0.036470         0.878609   \n",
       "2    -0.754022      -1.640859      0.749140        -0.343745   \n",
       "3     0.647674       1.521162     -0.418456        -1.275711   \n",
       "4    -0.636554      -1.013259     -1.039091        -0.894828   \n",
       "\n",
       "   InstrumentalScore  LivePerformanceLikelihood  MoodScore  TrackDurationMs  \\\n",
       "0          -0.931999                  -1.074691  -0.647405         0.822767   \n",
       "1           1.734406                  -0.066641   0.422064        -1.304377   \n",
       "2           2.397472                  -1.259230  -0.585321        -1.136222   \n",
       "3           0.386437                  -0.778712  -1.228925        -0.275361   \n",
       "4          -0.931999                   1.294126  -0.346257        -0.471004   \n",
       "\n",
       "     Energy  \n",
       "0  1.122062  \n",
       "1 -1.226143  \n",
       "2  0.426774  \n",
       "3 -0.046407  \n",
       "4  1.539602  "
      ]
     },
     "metadata": {},
     "output_type": "display_data"
    }
   ],
   "source": [
    "from sklearn.preprocessing import StandardScaler\n",
    "\n",
    "scaler     = StandardScaler()\n",
    "X_scaled   = scaler.fit_transform(X_trans)\n",
    "X_scaled   = pd.DataFrame(X_scaled, columns=X.columns)\n",
    "\n",
    "display(X_scaled.head())"
   ]
  },
  {
   "cell_type": "markdown",
   "id": "d52dc00f",
   "metadata": {},
   "source": [
    "## 3.3. Pipeline."
   ]
  },
  {
   "cell_type": "code",
   "execution_count": 56,
   "id": "77756582",
   "metadata": {},
   "outputs": [
    {
     "data": {
      "text/html": [
       "<div>\n",
       "<style scoped>\n",
       "    .dataframe tbody tr th:only-of-type {\n",
       "        vertical-align: middle;\n",
       "    }\n",
       "\n",
       "    .dataframe tbody tr th {\n",
       "        vertical-align: top;\n",
       "    }\n",
       "\n",
       "    .dataframe thead th {\n",
       "        text-align: right;\n",
       "    }\n",
       "</style>\n",
       "<table border=\"1\" class=\"dataframe\">\n",
       "  <thead>\n",
       "    <tr style=\"text-align: right;\">\n",
       "      <th></th>\n",
       "      <th>RhythmScore</th>\n",
       "      <th>AudioLoudness</th>\n",
       "      <th>VocalContent</th>\n",
       "      <th>AcousticQuality</th>\n",
       "      <th>InstrumentalScore</th>\n",
       "      <th>LivePerformanceLikelihood</th>\n",
       "      <th>MoodScore</th>\n",
       "      <th>TrackDurationMs</th>\n",
       "      <th>Energy</th>\n",
       "    </tr>\n",
       "  </thead>\n",
       "  <tbody>\n",
       "    <tr>\n",
       "      <th>0</th>\n",
       "      <td>-0.931999</td>\n",
       "      <td>-1.039091</td>\n",
       "      <td>-1.285378</td>\n",
       "      <td>-0.186320</td>\n",
       "      <td>0.160753</td>\n",
       "      <td>-1.074691</td>\n",
       "      <td>-0.647405</td>\n",
       "      <td>0.822767</td>\n",
       "      <td>1.122062</td>\n",
       "    </tr>\n",
       "    <tr>\n",
       "      <th>1</th>\n",
       "      <td>1.734406</td>\n",
       "      <td>-0.036470</td>\n",
       "      <td>0.878609</td>\n",
       "      <td>0.042116</td>\n",
       "      <td>-1.708885</td>\n",
       "      <td>-0.066641</td>\n",
       "      <td>0.422064</td>\n",
       "      <td>-1.304377</td>\n",
       "      <td>-1.226143</td>\n",
       "    </tr>\n",
       "    <tr>\n",
       "      <th>2</th>\n",
       "      <td>2.397472</td>\n",
       "      <td>0.749140</td>\n",
       "      <td>-0.343745</td>\n",
       "      <td>-0.754022</td>\n",
       "      <td>-1.640859</td>\n",
       "      <td>-1.259230</td>\n",
       "      <td>-0.585321</td>\n",
       "      <td>-1.136222</td>\n",
       "      <td>0.426774</td>\n",
       "    </tr>\n",
       "    <tr>\n",
       "      <th>3</th>\n",
       "      <td>0.386437</td>\n",
       "      <td>-0.418456</td>\n",
       "      <td>-1.275711</td>\n",
       "      <td>0.647674</td>\n",
       "      <td>1.521162</td>\n",
       "      <td>-0.778712</td>\n",
       "      <td>-1.228925</td>\n",
       "      <td>-0.275361</td>\n",
       "      <td>-0.046407</td>\n",
       "    </tr>\n",
       "    <tr>\n",
       "      <th>4</th>\n",
       "      <td>-0.931999</td>\n",
       "      <td>-1.039091</td>\n",
       "      <td>-0.894828</td>\n",
       "      <td>-0.636554</td>\n",
       "      <td>-1.013259</td>\n",
       "      <td>1.294126</td>\n",
       "      <td>-0.346257</td>\n",
       "      <td>-0.471004</td>\n",
       "      <td>1.539602</td>\n",
       "    </tr>\n",
       "  </tbody>\n",
       "</table>\n",
       "</div>"
      ],
      "text/plain": [
       "   RhythmScore  AudioLoudness  VocalContent  AcousticQuality  \\\n",
       "0    -0.931999      -1.039091     -1.285378        -0.186320   \n",
       "1     1.734406      -0.036470      0.878609         0.042116   \n",
       "2     2.397472       0.749140     -0.343745        -0.754022   \n",
       "3     0.386437      -0.418456     -1.275711         0.647674   \n",
       "4    -0.931999      -1.039091     -0.894828        -0.636554   \n",
       "\n",
       "   InstrumentalScore  LivePerformanceLikelihood  MoodScore  TrackDurationMs  \\\n",
       "0           0.160753                  -1.074691  -0.647405         0.822767   \n",
       "1          -1.708885                  -0.066641   0.422064        -1.304377   \n",
       "2          -1.640859                  -1.259230  -0.585321        -1.136222   \n",
       "3           1.521162                  -0.778712  -1.228925        -0.275361   \n",
       "4          -1.013259                   1.294126  -0.346257        -0.471004   \n",
       "\n",
       "     Energy  \n",
       "0  1.122062  \n",
       "1 -1.226143  \n",
       "2  0.426774  \n",
       "3 -0.046407  \n",
       "4  1.539602  "
      ]
     },
     "metadata": {},
     "output_type": "display_data"
    }
   ],
   "source": [
    "from sklearn.preprocessing import FunctionTransformer, StandardScaler\n",
    "from sklearn.compose import ColumnTransformer\n",
    "from sklearn.pipeline import Pipeline\n",
    "\n",
    "# Config.\n",
    "target      = \"BeatsPerMinute\"\n",
    "cols_skewed = [\"InstrumentalScore\", \"VocalContent\", \"AcousticQuality\"]\n",
    "\n",
    "# Split features and target.\n",
    "X = df.drop(columns=[target])\n",
    "y = df[target]\n",
    "\n",
    "# Column-wise log1p transformer.\n",
    "log1p_ct = ColumnTransformer(\n",
    "    transformers    = [(\"log1p\", FunctionTransformer(np.log1p, feature_names_out=\"one-to-one\"), cols_skewed)],\n",
    "    remainder       = \"passthrough\"\n",
    ")\n",
    "\n",
    "# Pipeline.\n",
    "pipe = Pipeline([\n",
    "    (\"log1p\", log1p_ct),\n",
    "    (\"scaler\", StandardScaler())\n",
    "])\n",
    "\n",
    "# Transform features and keep original column order for convenience.\n",
    "X_prep = pipe.fit_transform(X)\n",
    "X_prep = pd.DataFrame(X_prep, columns=X.columns)\n",
    "\n",
    "display(X_prep.head())\n"
   ]
  },
  {
   "cell_type": "markdown",
   "id": "58452255",
   "metadata": {},
   "source": [
    "# 4. Model Selection."
   ]
  },
  {
   "cell_type": "markdown",
   "id": "8d9da533",
   "metadata": {},
   "source": [
    "## 4.1. Simple Regressions."
   ]
  },
  {
   "cell_type": "markdown",
   "id": "6d01412e",
   "metadata": {},
   "source": [
    "- As expected, almost same as a `mean baseline`.\n",
    "- Let's try some `nonlinear` models."
   ]
  },
  {
   "cell_type": "markdown",
   "id": "ba033687",
   "metadata": {},
   "source": [
    "### 4.1.1. Linear Regression."
   ]
  },
  {
   "cell_type": "code",
   "execution_count": null,
   "id": "0d70cc7b",
   "metadata": {},
   "outputs": [
    {
     "name": "stdout",
     "output_type": "stream",
     "text": [
      "- R2 (5-fold CV): mean=0.0001, std=0.0001.\n",
      "- Fold scores: [ 0.0001  0.0001  0.0002  0.0003 -0.    ]\n"
     ]
    }
   ],
   "source": [
    "from sklearn.model_selection import KFold, cross_val_score\n",
    "from sklearn.linear_model import LinearRegression\n",
    "\n",
    "n_splits    = 5\n",
    "cv          = KFold(n_splits=n_splits, shuffle=True, random_state=SEED)\n",
    "\n",
    "scores_a    = cross_val_score(LinearRegression(), X_prep, y, cv=cv, scoring=\"r2\")\n",
    "\n",
    "print(f\"- R2 (5-fold CV): mean={scores_a.mean():.4f}, std={scores_a.std():.4f}.\")\n",
    "print(\"- Fold scores:\", np.round(scores_a, 4))"
   ]
  },
  {
   "cell_type": "markdown",
   "id": "fe2defa3",
   "metadata": {},
   "source": [
    "### 4.1.2. Polynomial Regression."
   ]
  },
  {
   "cell_type": "code",
   "execution_count": null,
   "id": "f2677cc8",
   "metadata": {},
   "outputs": [
    {
     "name": "stdout",
     "output_type": "stream",
     "text": [
      "- R2 (5-fold CV, degree=1): mean=0.0001, std=0.0001.\n",
      "- Fold scores: [ 0.0001  0.0001  0.0002  0.0003 -0.    ]\n",
      "\n",
      "- R2 (5-fold CV, degree=2): mean=0.0001, std=0.0001.\n",
      "- Fold scores: [0.     0.0003 0.0002 0.0001 0.    ]\n",
      "\n",
      "- R2 (5-fold CV, degree=3): mean=-0.0001, std=0.0001.\n",
      "- Fold scores: [-0.0002  0.0001 -0.0003  0.0001 -0.0001]\n",
      "\n"
     ]
    }
   ],
   "source": [
    "from sklearn.preprocessing import PolynomialFeatures\n",
    "\n",
    "for degree in range(1, 4):\n",
    "    poly = PolynomialFeatures(degree=degree, include_bias=False)\n",
    "    X_poly = poly.fit_transform(X_prep)\n",
    "\n",
    "    scores = cross_val_score(LinearRegression(), X_poly, y, cv=cv, scoring=\"r2\")\n",
    "    print(f\"- R2 (5-fold CV, degree={degree}): mean={scores.mean():.4f}, std={scores.std():.4f}.\")\n",
    "    print(\"- Fold scores:\", np.round(scores, 4), end=\"\\n\\n\")\n"
   ]
  },
  {
   "cell_type": "markdown",
   "id": "9566e8bc",
   "metadata": {},
   "source": [
    "## 4.2. GBDTs."
   ]
  },
  {
   "cell_type": "code",
   "execution_count": 75,
   "id": "c0a50965",
   "metadata": {},
   "outputs": [
    {
     "name": "stdout",
     "output_type": "stream",
     "text": [
      "\n",
      "RandomForest - R2 (CV): mean=-0.2258, std=0.0021.\n",
      "RandomForest - Fold scores: [-0.2237 -0.2279]\n",
      "\n",
      "ExtraTrees - R2 (CV): mean=-0.2370, std=0.0002.\n",
      "ExtraTrees - Fold scores: [-0.2368 -0.2372]\n",
      "\n",
      "HistGBR - R2 (CV): mean=0.0004, std=0.0001.\n",
      "HistGBR - Fold scores: [0.0003 0.0005]\n"
     ]
    }
   ],
   "source": [
    "# Spearman, Mutual Information, and tree ensembles using existing X_prep, y, and cv.\n",
    "# Assumes necessary common imports (e.g., numpy as np, pandas as pd, cross_val_score) are already available.\n",
    "# Comments are in English and end with periods.\n",
    "\n",
    "from sklearn.ensemble import RandomForestRegressor, ExtraTreesRegressor, HistGradientBoostingRegressor\n",
    "from sklearn.model_selection import KFold, cross_val_score\n",
    "\n",
    "n_splits    = 2\n",
    "cv          = KFold(n_splits=n_splits, shuffle=True, random_state=SEED)\n",
    "\n",
    "# 4) Tree ensembles with 5-fold CV R^2 on X_prep directly.\n",
    "models = {\n",
    "    \"RandomForest\": RandomForestRegressor(n_estimators=5, n_jobs=-1),\n",
    "    \"ExtraTrees\": ExtraTreesRegressor(n_estimators=5, n_jobs=-1),\n",
    "    \"HistGBR\": HistGradientBoostingRegressor(),\n",
    "}\n",
    "\n",
    "for name, model in models.items():\n",
    "    scores = cross_val_score(model, X_prep, y, cv=cv, scoring=\"r2\", n_jobs=-1)\n",
    "    print(f\"\\n{name} - R2 (CV): mean={scores.mean():.4f}, std={scores.std():.4f}.\")\n",
    "    print(f\"{name} - Fold scores:\", np.round(scores, 4))\n"
   ]
  },
  {
   "cell_type": "markdown",
   "id": "08039000",
   "metadata": {},
   "source": [
    "# 5. Submission."
   ]
  },
  {
   "cell_type": "markdown",
   "id": "7a6fa6b2",
   "metadata": {},
   "source": [
    "- Simple LR, 26.39115, 598/869.\n",
    "- Ranking 1: 26.38276, 9/7, 2025.\n",
    "- This competition is not valid at the moment. Maybe get back later."
   ]
  },
  {
   "cell_type": "code",
   "execution_count": 78,
   "id": "095b29ea",
   "metadata": {},
   "outputs": [
    {
     "name": "stdout",
     "output_type": "stream",
     "text": [
      "Saved to submission.csv\n"
     ]
    },
    {
     "data": {
      "text/html": [
       "<div>\n",
       "<style scoped>\n",
       "    .dataframe tbody tr th:only-of-type {\n",
       "        vertical-align: middle;\n",
       "    }\n",
       "\n",
       "    .dataframe tbody tr th {\n",
       "        vertical-align: top;\n",
       "    }\n",
       "\n",
       "    .dataframe thead th {\n",
       "        text-align: right;\n",
       "    }\n",
       "</style>\n",
       "<table border=\"1\" class=\"dataframe\">\n",
       "  <thead>\n",
       "    <tr style=\"text-align: right;\">\n",
       "      <th></th>\n",
       "      <th>id</th>\n",
       "      <th>BeatsPerMinute</th>\n",
       "    </tr>\n",
       "  </thead>\n",
       "  <tbody>\n",
       "    <tr>\n",
       "      <th>0</th>\n",
       "      <td>524164</td>\n",
       "      <td>119.302183</td>\n",
       "    </tr>\n",
       "    <tr>\n",
       "      <th>1</th>\n",
       "      <td>524165</td>\n",
       "      <td>118.995771</td>\n",
       "    </tr>\n",
       "    <tr>\n",
       "      <th>2</th>\n",
       "      <td>524166</td>\n",
       "      <td>119.617660</td>\n",
       "    </tr>\n",
       "    <tr>\n",
       "      <th>3</th>\n",
       "      <td>524167</td>\n",
       "      <td>119.455987</td>\n",
       "    </tr>\n",
       "    <tr>\n",
       "      <th>4</th>\n",
       "      <td>524168</td>\n",
       "      <td>119.087860</td>\n",
       "    </tr>\n",
       "  </tbody>\n",
       "</table>\n",
       "</div>"
      ],
      "text/plain": [
       "       id  BeatsPerMinute\n",
       "0  524164      119.302183\n",
       "1  524165      118.995771\n",
       "2  524166      119.617660\n",
       "3  524167      119.455987\n",
       "4  524168      119.087860"
      ]
     },
     "metadata": {},
     "output_type": "display_data"
    }
   ],
   "source": [
    "# Read test and keep id for submission.\n",
    "test = pd.read_csv(\"data/test.csv\")\n",
    "ids = test[\"id\"].copy()\n",
    "\n",
    "# Align test features to the training feature set.\n",
    "if 'X' in globals():\n",
    "    feature_cols = list(X.columns)\n",
    "else:\n",
    "    raise NameError(\"Expected `X` (training features) to exist. Define X before running this cell.\")\n",
    "\n",
    "X_test = test[feature_cols].copy()\n",
    "\n",
    "# Choose estimator: prefer pipeline `pipe`, else fall back to `model_lin`.\n",
    "if 'pipe' in globals():\n",
    "    est = pipe\n",
    "elif 'model_lin' in globals():\n",
    "    est = model_lin\n",
    "else:\n",
    "    raise NameError(\"Expected a fitted estimator `pipe` (preferred) or `model_lin` to exist.\")\n",
    "\n",
    "# Fit on full training data, then predict on test.\n",
    "est.fit(X, y)\n",
    "y_pred = est.predict(X_test)\n",
    "\n",
    "# Build and save submission.\n",
    "sub = pd.DataFrame({\"id\": ids, \"BeatsPerMinute\": y_pred})\n",
    "sub.to_csv(\"submission.csv\", index=False)\n",
    "\n",
    "# Quick preview.\n",
    "print(\"Saved to submission.csv\")\n",
    "display(sub.head())\n"
   ]
  },
  {
   "cell_type": "code",
   "execution_count": null,
   "id": "817d6041",
   "metadata": {},
   "outputs": [],
   "source": []
  }
 ],
 "metadata": {
  "kernelspec": {
   "display_name": "ai_prac_basic",
   "language": "python",
   "name": "python3"
  },
  "language_info": {
   "codemirror_mode": {
    "name": "ipython",
    "version": 3
   },
   "file_extension": ".py",
   "mimetype": "text/x-python",
   "name": "python",
   "nbconvert_exporter": "python",
   "pygments_lexer": "ipython3",
   "version": "3.10.18"
  }
 },
 "nbformat": 4,
 "nbformat_minor": 5
}
